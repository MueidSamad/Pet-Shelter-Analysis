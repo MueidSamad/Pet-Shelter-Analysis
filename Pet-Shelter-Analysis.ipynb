{
 "cells": [
  {
   "cell_type": "code",
   "execution_count": null,
   "id": "134b5c77",
   "metadata": {},
   "outputs": [],
   "source": [
    "import pandas as pd\n",
    "import numpy as py\n",
    "import matplotlib.pyplot as plt\n",
    "intakes = pd.read_csv('aac_intakes.csv')\n",
    "intakes_outcomes = pd.read_csv('aac_intakes_outcomes.csv')\n",
    "outcomes = pd.read_csv('aac_outcomes.csv')"
   ]
  },
  {
   "cell_type": "markdown",
   "id": "79f1b240",
   "metadata": {},
   "source": [
    "Intakes import and datetime conversion"
   ]
  },
  {
   "cell_type": "code",
   "execution_count": null,
   "id": "2661a8fe",
   "metadata": {},
   "outputs": [],
   "source": [
    "first = intakes['datetime'] = pd.to_datetime(intakes['datetime'])\n",
    "second = intakes['datetime2'] = pd.to_datetime(intakes['datetime2'])"
   ]
  },
  {
   "cell_type": "markdown",
   "id": "2d2b338d",
   "metadata": {},
   "source": [
    "\n",
    "Is there an area where more pets are found?"
   ]
  },
  {
   "cell_type": "code",
   "execution_count": null,
   "id": "4ccd6c76",
   "metadata": {},
   "outputs": [],
   "source": [
    "\n",
    "# Filter out cities only\n",
    "specific = intakes[intakes.found_location.str.contains(' in ')]\n",
    "# Group the remaining together\n",
    "specific = specific.groupby(['found_location'])\n",
    "# Sort the data into ascending\n",
    "specific = specific.size().sort_values(ascending=False)\n",
    "# Return first 5. \n",
    "specific[:5]"
   ]
  },
  {
   "cell_type": "markdown",
   "id": "b42a2f1f",
   "metadata": {},
   "source": [
    "\n",
    "Some of the entires only had a city as the location. I filtered those out and I wanted specific locations. It is much easier to focus on a specific area for resources versus a larger general area, especially when the area is the entire city of Austin Texas.\n",
    "As the list shows, the first five are 7201 Lavender Loop, 4434 Frontier Trail, 124 W Anderson Lane, 12034, Research Boulevard, and 1156 West Cesear Chavez, All in the city of Austin.\n"
   ]
  },
  {
   "cell_type": "markdown",
   "id": "453ad26d",
   "metadata": {},
   "source": [
    "What is the average number of pets found in a month in the year 2015? Are there months where there is a higher number of animals found?\n"
   ]
  },
  {
   "cell_type": "code",
   "execution_count": null,
   "id": "12b01737",
   "metadata": {},
   "outputs": [],
   "source": [
    "# Set the date range\n",
    "fifteen = intakes[intakes['datetime'] >= pd.Timestamp(2015,1,1)]\n",
    "fifteen = fifteen[fifteen['datetime'] < pd.Timestamp(2016,1,1)]\n",
    "# Total the intakes\n",
    "total = fifteen['animal_id'].count()\n",
    "# Take the total and divide by 12 for average....\n",
    "average = total / 12\n",
    "# The number below will average across the montes\n",
    "print(f'The monthly intake average is {average.round(2)} animals per month')"
   ]
  },
  {
   "cell_type": "markdown",
   "id": "b03a13cd",
   "metadata": {},
   "source": [
    "\n",
    "The monthly intake average is 1559.33 animals per month"
   ]
  },
  {
   "cell_type": "markdown",
   "id": "296e9a9a",
   "metadata": {},
   "source": [
    "\n",
    "This is figured out with coming up with the total number of intakes and dividing it by 12 to get an estimate monthly intake\n"
   ]
  },
  {
   "cell_type": "code",
   "execution_count": null,
   "id": "f718bd91",
   "metadata": {},
   "outputs": [],
   "source": [
    "month_breakdown = fifteen.groupby(pd.Grouper(key=\"datetime\", freq=\"M\")).count().plot(kind=\"bar\", title='Monthly Intake', y=\"animal_id\")\n",
    "print(f'The following graph below shows intakes on a month basis based on animal ID')\n",
    "\n",
    "print(f'As the Graph shows, there are more intakes in June, May, August, and October')"
   ]
  },
  {
   "cell_type": "markdown",
   "id": "91672d85",
   "metadata": {},
   "source": [
    "\n",
    "The following graph below shows intakes on a month basis based on animal ID\n",
    "As the Graph shows, there are more intakes in June, May, August, and October\n"
   ]
  },
  {
   "cell_type": "markdown",
   "id": "4e0ba886",
   "metadata": {},
   "source": [
    "\n",
    "I used a bar chart to show this to visualize the months. I used the months with the most intakes as my answer"
   ]
  },
  {
   "cell_type": "markdown",
   "id": "1b7f5cad",
   "metadata": {},
   "source": [
    "\n",
    "What is the ratio of incoming pets vs. adopted pets?"
   ]
  },
  {
   "cell_type": "code",
   "execution_count": null,
   "id": "a8958dd6",
   "metadata": {},
   "outputs": [],
   "source": [
    "\n",
    "# Get the Total numbers\n",
    "num1 = intakes['animal_id'].count()\n",
    "num2 = outcomes['animal_id'].count()\n",
    "# Do some math\n",
    "ratio = num2 / num1\n",
    "# Present the results\n",
    "print(f'The total incoming pets is {num1}')\n",
    "print(f'The total number out going pets is {num2}')\n",
    "print(f'For every pet taken in, {ratio.round(4)} is adopted out.')"
   ]
  },
  {
   "cell_type": "markdown",
   "id": "3d74a88e",
   "metadata": {},
   "source": [
    "\n",
    "The total incoming pets is 80187\n",
    "The total number out going pets is 80681\n",
    "For every pet taken in, 1.0062 is adopted out."
   ]
  },
  {
   "cell_type": "markdown",
   "id": "9af407a9",
   "metadata": {},
   "source": [
    "\n",
    "I took the total outgoing and divded it by the incoming to obtain the ratio"
   ]
  },
  {
   "cell_type": "markdown",
   "id": "6761efdc",
   "metadata": {},
   "source": [
    "\n",
    "What is the distribution of the types of animals in the shelter?"
   ]
  },
  {
   "cell_type": "code",
   "execution_count": null,
   "id": "c65b1962",
   "metadata": {},
   "outputs": [],
   "source": [
    "# I am thinking pie chart to show this\n",
    "distribution = intakes.groupby(['animal_type']).count().plot(kind='pie', y='animal_id', ylabel='Distribution of Animal Types')"
   ]
  },
  {
   "cell_type": "code",
   "execution_count": null,
   "id": "5e66e459",
   "metadata": {},
   "outputs": [],
   "source": [
    "hard_numbers = intakes.groupby(['animal_type']).size()\n",
    "hard_numbers"
   ]
  },
  {
   "cell_type": "code",
   "execution_count": null,
   "id": "41e03038",
   "metadata": {},
   "outputs": [],
   "source": [
    "I used the size function to get the hard numbers. As it shows, Dogs greatly outweigh the other animals. Only 9 animals for livestock."
   ]
  },
  {
   "cell_type": "code",
   "execution_count": null,
   "id": "0e7d2f85",
   "metadata": {},
   "outputs": [],
   "source": [
    "What are the adoption rates for specific breeds?"
   ]
  },
  {
   "cell_type": "code",
   "execution_count": null,
   "id": "b772f69e",
   "metadata": {},
   "outputs": [],
   "source": [
    "# Get the dogs\n",
    "dog_breeds = intakes[intakes['animal_type'] == 'Dog'] \n",
    "# Time to group\n",
    "dog_breeds = dog_breeds.groupby(['breed'])\n",
    "dog_breeds= dog_breeds.size().sort_values(ascending=False)\n",
    "\n",
    "# total dogs\n",
    "total_dogs = dog_breeds.count()\n",
    "\n",
    "for x in range(5):\n",
    "    y = x + 1\n",
    "    print('')\n",
    "    breeds = dog_breeds[x:y] / total\n",
    "    print(f'{breeds}')"
   ]
  },
  {
   "cell_type": "markdown",
   "id": "c5a54813",
   "metadata": {},
   "source": [
    "What are the adoption rates for different colorings?"
   ]
  },
  {
   "cell_type": "code",
   "execution_count": null,
   "id": "3d83a2f1",
   "metadata": {},
   "outputs": [],
   "source": [
    "\n",
    "# Lets begin by grouping the colors\n",
    "colors = intakes.groupby(['color'])\n",
    "color_list = colors.size().sort_values(ascending=False)\n",
    "# Remember Total variable from above\n",
    "print('Below is a list of the most popular colors and their ration of adoption compared to the total')\n",
    "# List is ugly, but it gives what is needed \n",
    "for x in range(5):\n",
    "    y = x + 1\n",
    "    print('')\n",
    "    color = color_list[x:y] / total\n",
    "    print(f'{color}')"
   ]
  },
  {
   "cell_type": "markdown",
   "id": "9f3094c1",
   "metadata": {},
   "source": [
    "Below is a list of the most popular colors and their ration of adoption compared to the total\n"
   ]
  },
  {
   "cell_type": "markdown",
   "id": "813f9908",
   "metadata": {},
   "source": [
    "\n",
    "I took the total number color (of all animals) and had divided it from the totall\n"
   ]
  },
  {
   "cell_type": "markdown",
   "id": "db56a71d",
   "metadata": {},
   "source": [
    "About how many animals are spayed/neutered each month?"
   ]
  },
  {
   "cell_type": "code",
   "execution_count": null,
   "id": "513b18c2",
   "metadata": {},
   "outputs": [],
   "source": [
    "# First we need the numbers we are looking for\n",
    "spayed = intakes.groupby(['sex_upon_intake'])\n",
    "spayed.size().sort_values()\n",
    "# So I want 23860 + 25488"
   ]
  },
  {
   "cell_type": "markdown",
   "id": "ae134163",
   "metadata": {},
   "source": [
    "This is to get the total number we need for the equation."
   ]
  },
  {
   "cell_type": "code",
   "execution_count": null,
   "id": "606dc3fd",
   "metadata": {},
   "outputs": [],
   "source": [
    "# Setting the numbers as a variable.\n",
    "males = intakes.loc[intakes['sex_upon_intake'] == 'Intact Male']\n",
    "females = intakes.loc[intakes['sex_upon_intake'] == 'Intact Female']\n",
    "total = males.count() + females.count() \n",
    "# This gives 49,348\n",
    "number = total['animal_id']"
   ]
  },
  {
   "cell_type": "markdown",
   "id": "9ca77b57",
   "metadata": {},
   "source": [
    "Added the females and male together to get the final total"
   ]
  },
  {
   "cell_type": "code",
   "execution_count": null,
   "id": "d79f7b36",
   "metadata": {},
   "outputs": [],
   "source": [
    "\n",
    "# Found this function from Stack overflow, posted 12 years ago\n",
    "def diff_month(d1, d2):\n",
    "    return (d1.year - d2.year) * 12 + d1.month - d2.month\n",
    "\n",
    "# First, how many total months\n",
    "# earliest month\n",
    "first_month = intakes['datetime'].min()\n",
    "# Latest month\n",
    "last_month = intakes['datetime'].max()\n",
    "months = diff_month(last_month, first_month)\n",
    "# 53 months is what we are working with"
   ]
  },
  {
   "cell_type": "markdown",
   "id": "9ccdc413",
   "metadata": {},
   "source": [
    "Get the month total we need"
   ]
  },
  {
   "cell_type": "code",
   "execution_count": null,
   "id": "82a24b88",
   "metadata": {},
   "outputs": [],
   "source": [
    "# So 53 months to neuter/spay 49,348 animals. Time for math\n",
    "# Answer should be 931.094\n",
    "answer = total / months \n",
    "to_present = answer['animal_id'].round(2)\n",
    "print(f'Approximately {to_present} animals are spayed/neautered each month')\n"
   ]
  },
  {
   "cell_type": "markdown",
   "id": "afb92abd",
   "metadata": {},
   "source": [
    "Approximately 931.09 animals are spayed/neautered each month\n"
   ]
  },
  {
   "cell_type": "markdown",
   "id": "437e54e1",
   "metadata": {},
   "source": [
    "took the total animals and divided it by the total months to get this answer"
   ]
  }
 ],
 "metadata": {
  "kernelspec": {
   "display_name": "Python 3 (ipykernel)",
   "language": "python",
   "name": "python3"
  },
  "language_info": {
   "codemirror_mode": {
    "name": "ipython",
    "version": 3
   },
   "file_extension": ".py",
   "mimetype": "text/x-python",
   "name": "python",
   "nbconvert_exporter": "python",
   "pygments_lexer": "ipython3",
   "version": "3.9.12"
  }
 },
 "nbformat": 4,
 "nbformat_minor": 5
}
