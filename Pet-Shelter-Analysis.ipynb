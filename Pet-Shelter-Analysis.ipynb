{
 "cells": [
  {
   "cell_type": "code",
   "execution_count": 2,
   "id": "fb46a53b",
   "metadata": {},
   "outputs": [
    {
     "ename": "FileNotFoundError",
     "evalue": "[Errno 2] No such file or directory: 'aac_intakes.csv'",
     "output_type": "error",
     "traceback": [
      "\u001b[1;31m---------------------------------------------------------------------------\u001b[0m",
      "\u001b[1;31mFileNotFoundError\u001b[0m                         Traceback (most recent call last)",
      "Input \u001b[1;32mIn [2]\u001b[0m, in \u001b[0;36m<cell line: 4>\u001b[1;34m()\u001b[0m\n\u001b[0;32m      2\u001b[0m \u001b[38;5;28;01mimport\u001b[39;00m \u001b[38;5;21;01mnumpy\u001b[39;00m \u001b[38;5;28;01mas\u001b[39;00m \u001b[38;5;21;01mpy\u001b[39;00m\n\u001b[0;32m      3\u001b[0m \u001b[38;5;28;01mimport\u001b[39;00m \u001b[38;5;21;01mmatplotlib\u001b[39;00m\u001b[38;5;21;01m.\u001b[39;00m\u001b[38;5;21;01mpyplot\u001b[39;00m \u001b[38;5;28;01mas\u001b[39;00m \u001b[38;5;21;01mplt\u001b[39;00m\n\u001b[1;32m----> 4\u001b[0m intakes \u001b[38;5;241m=\u001b[39m \u001b[43mpd\u001b[49m\u001b[38;5;241;43m.\u001b[39;49m\u001b[43mread_csv\u001b[49m\u001b[43m(\u001b[49m\u001b[38;5;124;43m'\u001b[39;49m\u001b[38;5;124;43maac_intakes.csv\u001b[39;49m\u001b[38;5;124;43m'\u001b[39;49m\u001b[43m)\u001b[49m\n\u001b[0;32m      5\u001b[0m intakes_outcomes \u001b[38;5;241m=\u001b[39m pd\u001b[38;5;241m.\u001b[39mread_csv(\u001b[38;5;124m'\u001b[39m\u001b[38;5;124maac_intakes_outcomes.csv\u001b[39m\u001b[38;5;124m'\u001b[39m)\n\u001b[0;32m      6\u001b[0m outcomes \u001b[38;5;241m=\u001b[39m pd\u001b[38;5;241m.\u001b[39mread_csv(\u001b[38;5;124m'\u001b[39m\u001b[38;5;124maac_outcomes.csv\u001b[39m\u001b[38;5;124m'\u001b[39m)\n",
      "File \u001b[1;32m~\\anaconda3\\lib\\site-packages\\pandas\\util\\_decorators.py:311\u001b[0m, in \u001b[0;36mdeprecate_nonkeyword_arguments.<locals>.decorate.<locals>.wrapper\u001b[1;34m(*args, **kwargs)\u001b[0m\n\u001b[0;32m    305\u001b[0m \u001b[38;5;28;01mif\u001b[39;00m \u001b[38;5;28mlen\u001b[39m(args) \u001b[38;5;241m>\u001b[39m num_allow_args:\n\u001b[0;32m    306\u001b[0m     warnings\u001b[38;5;241m.\u001b[39mwarn(\n\u001b[0;32m    307\u001b[0m         msg\u001b[38;5;241m.\u001b[39mformat(arguments\u001b[38;5;241m=\u001b[39marguments),\n\u001b[0;32m    308\u001b[0m         \u001b[38;5;167;01mFutureWarning\u001b[39;00m,\n\u001b[0;32m    309\u001b[0m         stacklevel\u001b[38;5;241m=\u001b[39mstacklevel,\n\u001b[0;32m    310\u001b[0m     )\n\u001b[1;32m--> 311\u001b[0m \u001b[38;5;28;01mreturn\u001b[39;00m func(\u001b[38;5;241m*\u001b[39margs, \u001b[38;5;241m*\u001b[39m\u001b[38;5;241m*\u001b[39mkwargs)\n",
      "File \u001b[1;32m~\\anaconda3\\lib\\site-packages\\pandas\\io\\parsers\\readers.py:680\u001b[0m, in \u001b[0;36mread_csv\u001b[1;34m(filepath_or_buffer, sep, delimiter, header, names, index_col, usecols, squeeze, prefix, mangle_dupe_cols, dtype, engine, converters, true_values, false_values, skipinitialspace, skiprows, skipfooter, nrows, na_values, keep_default_na, na_filter, verbose, skip_blank_lines, parse_dates, infer_datetime_format, keep_date_col, date_parser, dayfirst, cache_dates, iterator, chunksize, compression, thousands, decimal, lineterminator, quotechar, quoting, doublequote, escapechar, comment, encoding, encoding_errors, dialect, error_bad_lines, warn_bad_lines, on_bad_lines, delim_whitespace, low_memory, memory_map, float_precision, storage_options)\u001b[0m\n\u001b[0;32m    665\u001b[0m kwds_defaults \u001b[38;5;241m=\u001b[39m _refine_defaults_read(\n\u001b[0;32m    666\u001b[0m     dialect,\n\u001b[0;32m    667\u001b[0m     delimiter,\n\u001b[1;32m   (...)\u001b[0m\n\u001b[0;32m    676\u001b[0m     defaults\u001b[38;5;241m=\u001b[39m{\u001b[38;5;124m\"\u001b[39m\u001b[38;5;124mdelimiter\u001b[39m\u001b[38;5;124m\"\u001b[39m: \u001b[38;5;124m\"\u001b[39m\u001b[38;5;124m,\u001b[39m\u001b[38;5;124m\"\u001b[39m},\n\u001b[0;32m    677\u001b[0m )\n\u001b[0;32m    678\u001b[0m kwds\u001b[38;5;241m.\u001b[39mupdate(kwds_defaults)\n\u001b[1;32m--> 680\u001b[0m \u001b[38;5;28;01mreturn\u001b[39;00m \u001b[43m_read\u001b[49m\u001b[43m(\u001b[49m\u001b[43mfilepath_or_buffer\u001b[49m\u001b[43m,\u001b[49m\u001b[43m \u001b[49m\u001b[43mkwds\u001b[49m\u001b[43m)\u001b[49m\n",
      "File \u001b[1;32m~\\anaconda3\\lib\\site-packages\\pandas\\io\\parsers\\readers.py:575\u001b[0m, in \u001b[0;36m_read\u001b[1;34m(filepath_or_buffer, kwds)\u001b[0m\n\u001b[0;32m    572\u001b[0m _validate_names(kwds\u001b[38;5;241m.\u001b[39mget(\u001b[38;5;124m\"\u001b[39m\u001b[38;5;124mnames\u001b[39m\u001b[38;5;124m\"\u001b[39m, \u001b[38;5;28;01mNone\u001b[39;00m))\n\u001b[0;32m    574\u001b[0m \u001b[38;5;66;03m# Create the parser.\u001b[39;00m\n\u001b[1;32m--> 575\u001b[0m parser \u001b[38;5;241m=\u001b[39m TextFileReader(filepath_or_buffer, \u001b[38;5;241m*\u001b[39m\u001b[38;5;241m*\u001b[39mkwds)\n\u001b[0;32m    577\u001b[0m \u001b[38;5;28;01mif\u001b[39;00m chunksize \u001b[38;5;129;01mor\u001b[39;00m iterator:\n\u001b[0;32m    578\u001b[0m     \u001b[38;5;28;01mreturn\u001b[39;00m parser\n",
      "File \u001b[1;32m~\\anaconda3\\lib\\site-packages\\pandas\\io\\parsers\\readers.py:933\u001b[0m, in \u001b[0;36mTextFileReader.__init__\u001b[1;34m(self, f, engine, **kwds)\u001b[0m\n\u001b[0;32m    930\u001b[0m     \u001b[38;5;28mself\u001b[39m\u001b[38;5;241m.\u001b[39moptions[\u001b[38;5;124m\"\u001b[39m\u001b[38;5;124mhas_index_names\u001b[39m\u001b[38;5;124m\"\u001b[39m] \u001b[38;5;241m=\u001b[39m kwds[\u001b[38;5;124m\"\u001b[39m\u001b[38;5;124mhas_index_names\u001b[39m\u001b[38;5;124m\"\u001b[39m]\n\u001b[0;32m    932\u001b[0m \u001b[38;5;28mself\u001b[39m\u001b[38;5;241m.\u001b[39mhandles: IOHandles \u001b[38;5;241m|\u001b[39m \u001b[38;5;28;01mNone\u001b[39;00m \u001b[38;5;241m=\u001b[39m \u001b[38;5;28;01mNone\u001b[39;00m\n\u001b[1;32m--> 933\u001b[0m \u001b[38;5;28mself\u001b[39m\u001b[38;5;241m.\u001b[39m_engine \u001b[38;5;241m=\u001b[39m \u001b[38;5;28;43mself\u001b[39;49m\u001b[38;5;241;43m.\u001b[39;49m\u001b[43m_make_engine\u001b[49m\u001b[43m(\u001b[49m\u001b[43mf\u001b[49m\u001b[43m,\u001b[49m\u001b[43m \u001b[49m\u001b[38;5;28;43mself\u001b[39;49m\u001b[38;5;241;43m.\u001b[39;49m\u001b[43mengine\u001b[49m\u001b[43m)\u001b[49m\n",
      "File \u001b[1;32m~\\anaconda3\\lib\\site-packages\\pandas\\io\\parsers\\readers.py:1217\u001b[0m, in \u001b[0;36mTextFileReader._make_engine\u001b[1;34m(self, f, engine)\u001b[0m\n\u001b[0;32m   1213\u001b[0m     mode \u001b[38;5;241m=\u001b[39m \u001b[38;5;124m\"\u001b[39m\u001b[38;5;124mrb\u001b[39m\u001b[38;5;124m\"\u001b[39m\n\u001b[0;32m   1214\u001b[0m \u001b[38;5;66;03m# error: No overload variant of \"get_handle\" matches argument types\u001b[39;00m\n\u001b[0;32m   1215\u001b[0m \u001b[38;5;66;03m# \"Union[str, PathLike[str], ReadCsvBuffer[bytes], ReadCsvBuffer[str]]\"\u001b[39;00m\n\u001b[0;32m   1216\u001b[0m \u001b[38;5;66;03m# , \"str\", \"bool\", \"Any\", \"Any\", \"Any\", \"Any\", \"Any\"\u001b[39;00m\n\u001b[1;32m-> 1217\u001b[0m \u001b[38;5;28mself\u001b[39m\u001b[38;5;241m.\u001b[39mhandles \u001b[38;5;241m=\u001b[39m \u001b[43mget_handle\u001b[49m\u001b[43m(\u001b[49m\u001b[43m  \u001b[49m\u001b[38;5;66;43;03m# type: ignore[call-overload]\u001b[39;49;00m\n\u001b[0;32m   1218\u001b[0m \u001b[43m    \u001b[49m\u001b[43mf\u001b[49m\u001b[43m,\u001b[49m\n\u001b[0;32m   1219\u001b[0m \u001b[43m    \u001b[49m\u001b[43mmode\u001b[49m\u001b[43m,\u001b[49m\n\u001b[0;32m   1220\u001b[0m \u001b[43m    \u001b[49m\u001b[43mencoding\u001b[49m\u001b[38;5;241;43m=\u001b[39;49m\u001b[38;5;28;43mself\u001b[39;49m\u001b[38;5;241;43m.\u001b[39;49m\u001b[43moptions\u001b[49m\u001b[38;5;241;43m.\u001b[39;49m\u001b[43mget\u001b[49m\u001b[43m(\u001b[49m\u001b[38;5;124;43m\"\u001b[39;49m\u001b[38;5;124;43mencoding\u001b[39;49m\u001b[38;5;124;43m\"\u001b[39;49m\u001b[43m,\u001b[49m\u001b[43m \u001b[49m\u001b[38;5;28;43;01mNone\u001b[39;49;00m\u001b[43m)\u001b[49m\u001b[43m,\u001b[49m\n\u001b[0;32m   1221\u001b[0m \u001b[43m    \u001b[49m\u001b[43mcompression\u001b[49m\u001b[38;5;241;43m=\u001b[39;49m\u001b[38;5;28;43mself\u001b[39;49m\u001b[38;5;241;43m.\u001b[39;49m\u001b[43moptions\u001b[49m\u001b[38;5;241;43m.\u001b[39;49m\u001b[43mget\u001b[49m\u001b[43m(\u001b[49m\u001b[38;5;124;43m\"\u001b[39;49m\u001b[38;5;124;43mcompression\u001b[39;49m\u001b[38;5;124;43m\"\u001b[39;49m\u001b[43m,\u001b[49m\u001b[43m \u001b[49m\u001b[38;5;28;43;01mNone\u001b[39;49;00m\u001b[43m)\u001b[49m\u001b[43m,\u001b[49m\n\u001b[0;32m   1222\u001b[0m \u001b[43m    \u001b[49m\u001b[43mmemory_map\u001b[49m\u001b[38;5;241;43m=\u001b[39;49m\u001b[38;5;28;43mself\u001b[39;49m\u001b[38;5;241;43m.\u001b[39;49m\u001b[43moptions\u001b[49m\u001b[38;5;241;43m.\u001b[39;49m\u001b[43mget\u001b[49m\u001b[43m(\u001b[49m\u001b[38;5;124;43m\"\u001b[39;49m\u001b[38;5;124;43mmemory_map\u001b[39;49m\u001b[38;5;124;43m\"\u001b[39;49m\u001b[43m,\u001b[49m\u001b[43m \u001b[49m\u001b[38;5;28;43;01mFalse\u001b[39;49;00m\u001b[43m)\u001b[49m\u001b[43m,\u001b[49m\n\u001b[0;32m   1223\u001b[0m \u001b[43m    \u001b[49m\u001b[43mis_text\u001b[49m\u001b[38;5;241;43m=\u001b[39;49m\u001b[43mis_text\u001b[49m\u001b[43m,\u001b[49m\n\u001b[0;32m   1224\u001b[0m \u001b[43m    \u001b[49m\u001b[43merrors\u001b[49m\u001b[38;5;241;43m=\u001b[39;49m\u001b[38;5;28;43mself\u001b[39;49m\u001b[38;5;241;43m.\u001b[39;49m\u001b[43moptions\u001b[49m\u001b[38;5;241;43m.\u001b[39;49m\u001b[43mget\u001b[49m\u001b[43m(\u001b[49m\u001b[38;5;124;43m\"\u001b[39;49m\u001b[38;5;124;43mencoding_errors\u001b[39;49m\u001b[38;5;124;43m\"\u001b[39;49m\u001b[43m,\u001b[49m\u001b[43m \u001b[49m\u001b[38;5;124;43m\"\u001b[39;49m\u001b[38;5;124;43mstrict\u001b[39;49m\u001b[38;5;124;43m\"\u001b[39;49m\u001b[43m)\u001b[49m\u001b[43m,\u001b[49m\n\u001b[0;32m   1225\u001b[0m \u001b[43m    \u001b[49m\u001b[43mstorage_options\u001b[49m\u001b[38;5;241;43m=\u001b[39;49m\u001b[38;5;28;43mself\u001b[39;49m\u001b[38;5;241;43m.\u001b[39;49m\u001b[43moptions\u001b[49m\u001b[38;5;241;43m.\u001b[39;49m\u001b[43mget\u001b[49m\u001b[43m(\u001b[49m\u001b[38;5;124;43m\"\u001b[39;49m\u001b[38;5;124;43mstorage_options\u001b[39;49m\u001b[38;5;124;43m\"\u001b[39;49m\u001b[43m,\u001b[49m\u001b[43m \u001b[49m\u001b[38;5;28;43;01mNone\u001b[39;49;00m\u001b[43m)\u001b[49m\u001b[43m,\u001b[49m\n\u001b[0;32m   1226\u001b[0m \u001b[43m\u001b[49m\u001b[43m)\u001b[49m\n\u001b[0;32m   1227\u001b[0m \u001b[38;5;28;01massert\u001b[39;00m \u001b[38;5;28mself\u001b[39m\u001b[38;5;241m.\u001b[39mhandles \u001b[38;5;129;01mis\u001b[39;00m \u001b[38;5;129;01mnot\u001b[39;00m \u001b[38;5;28;01mNone\u001b[39;00m\n\u001b[0;32m   1228\u001b[0m f \u001b[38;5;241m=\u001b[39m \u001b[38;5;28mself\u001b[39m\u001b[38;5;241m.\u001b[39mhandles\u001b[38;5;241m.\u001b[39mhandle\n",
      "File \u001b[1;32m~\\anaconda3\\lib\\site-packages\\pandas\\io\\common.py:789\u001b[0m, in \u001b[0;36mget_handle\u001b[1;34m(path_or_buf, mode, encoding, compression, memory_map, is_text, errors, storage_options)\u001b[0m\n\u001b[0;32m    784\u001b[0m \u001b[38;5;28;01melif\u001b[39;00m \u001b[38;5;28misinstance\u001b[39m(handle, \u001b[38;5;28mstr\u001b[39m):\n\u001b[0;32m    785\u001b[0m     \u001b[38;5;66;03m# Check whether the filename is to be opened in binary mode.\u001b[39;00m\n\u001b[0;32m    786\u001b[0m     \u001b[38;5;66;03m# Binary mode does not support 'encoding' and 'newline'.\u001b[39;00m\n\u001b[0;32m    787\u001b[0m     \u001b[38;5;28;01mif\u001b[39;00m ioargs\u001b[38;5;241m.\u001b[39mencoding \u001b[38;5;129;01mand\u001b[39;00m \u001b[38;5;124m\"\u001b[39m\u001b[38;5;124mb\u001b[39m\u001b[38;5;124m\"\u001b[39m \u001b[38;5;129;01mnot\u001b[39;00m \u001b[38;5;129;01min\u001b[39;00m ioargs\u001b[38;5;241m.\u001b[39mmode:\n\u001b[0;32m    788\u001b[0m         \u001b[38;5;66;03m# Encoding\u001b[39;00m\n\u001b[1;32m--> 789\u001b[0m         handle \u001b[38;5;241m=\u001b[39m \u001b[38;5;28;43mopen\u001b[39;49m\u001b[43m(\u001b[49m\n\u001b[0;32m    790\u001b[0m \u001b[43m            \u001b[49m\u001b[43mhandle\u001b[49m\u001b[43m,\u001b[49m\n\u001b[0;32m    791\u001b[0m \u001b[43m            \u001b[49m\u001b[43mioargs\u001b[49m\u001b[38;5;241;43m.\u001b[39;49m\u001b[43mmode\u001b[49m\u001b[43m,\u001b[49m\n\u001b[0;32m    792\u001b[0m \u001b[43m            \u001b[49m\u001b[43mencoding\u001b[49m\u001b[38;5;241;43m=\u001b[39;49m\u001b[43mioargs\u001b[49m\u001b[38;5;241;43m.\u001b[39;49m\u001b[43mencoding\u001b[49m\u001b[43m,\u001b[49m\n\u001b[0;32m    793\u001b[0m \u001b[43m            \u001b[49m\u001b[43merrors\u001b[49m\u001b[38;5;241;43m=\u001b[39;49m\u001b[43merrors\u001b[49m\u001b[43m,\u001b[49m\n\u001b[0;32m    794\u001b[0m \u001b[43m            \u001b[49m\u001b[43mnewline\u001b[49m\u001b[38;5;241;43m=\u001b[39;49m\u001b[38;5;124;43m\"\u001b[39;49m\u001b[38;5;124;43m\"\u001b[39;49m\u001b[43m,\u001b[49m\n\u001b[0;32m    795\u001b[0m \u001b[43m        \u001b[49m\u001b[43m)\u001b[49m\n\u001b[0;32m    796\u001b[0m     \u001b[38;5;28;01melse\u001b[39;00m:\n\u001b[0;32m    797\u001b[0m         \u001b[38;5;66;03m# Binary mode\u001b[39;00m\n\u001b[0;32m    798\u001b[0m         handle \u001b[38;5;241m=\u001b[39m \u001b[38;5;28mopen\u001b[39m(handle, ioargs\u001b[38;5;241m.\u001b[39mmode)\n",
      "\u001b[1;31mFileNotFoundError\u001b[0m: [Errno 2] No such file or directory: 'aac_intakes.csv'"
     ]
    }
   ],
   "source": [
    "import pandas as pd\n",
    "import numpy as py\n",
    "import matplotlib.pyplot as plt\n",
    "intakes = pd.read_csv('aac_intakes.csv')\n",
    "intakes_outcomes = pd.read_csv('aac_intakes_outcomes.csv')\n",
    "outcomes = pd.read_csv('aac_outcomes.csv')\n"
   ]
  },
  {
   "cell_type": "markdown",
   "id": "ed602984",
   "metadata": {},
   "source": [
    "# Intakes import and datetime conversion"
   ]
  },
  {
   "cell_type": "code",
   "execution_count": 3,
   "id": "6355d6b6",
   "metadata": {},
   "outputs": [
    {
     "ename": "NameError",
     "evalue": "name 'intakes' is not defined",
     "output_type": "error",
     "traceback": [
      "\u001b[1;31m---------------------------------------------------------------------------\u001b[0m",
      "\u001b[1;31mNameError\u001b[0m                                 Traceback (most recent call last)",
      "Input \u001b[1;32mIn [3]\u001b[0m, in \u001b[0;36m<cell line: 1>\u001b[1;34m()\u001b[0m\n\u001b[1;32m----> 1\u001b[0m first \u001b[38;5;241m=\u001b[39m intakes[\u001b[38;5;124m'\u001b[39m\u001b[38;5;124mdatetime\u001b[39m\u001b[38;5;124m'\u001b[39m] \u001b[38;5;241m=\u001b[39m pd\u001b[38;5;241m.\u001b[39mto_datetime(\u001b[43mintakes\u001b[49m[\u001b[38;5;124m'\u001b[39m\u001b[38;5;124mdatetime\u001b[39m\u001b[38;5;124m'\u001b[39m])\n\u001b[0;32m      2\u001b[0m second \u001b[38;5;241m=\u001b[39m intakes[\u001b[38;5;124m'\u001b[39m\u001b[38;5;124mdatetime2\u001b[39m\u001b[38;5;124m'\u001b[39m] \u001b[38;5;241m=\u001b[39m pd\u001b[38;5;241m.\u001b[39mto_datetime(intakes[\u001b[38;5;124m'\u001b[39m\u001b[38;5;124mdatetime2\u001b[39m\u001b[38;5;124m'\u001b[39m])\n",
      "\u001b[1;31mNameError\u001b[0m: name 'intakes' is not defined"
     ]
    }
   ],
   "source": [
    "first = intakes['datetime'] = pd.to_datetime(intakes['datetime'])\n",
    "second = intakes['datetime2'] = pd.to_datetime(intakes['datetime2'])"
   ]
  },
  {
   "cell_type": "markdown",
   "id": "5a0ed6bf",
   "metadata": {},
   "source": [
    "# Is there an area where more pets are found?"
   ]
  },
  {
   "cell_type": "code",
   "execution_count": 4,
   "id": "82627091",
   "metadata": {},
   "outputs": [
    {
     "ename": "NameError",
     "evalue": "name 'intakes' is not defined",
     "output_type": "error",
     "traceback": [
      "\u001b[1;31m---------------------------------------------------------------------------\u001b[0m",
      "\u001b[1;31mNameError\u001b[0m                                 Traceback (most recent call last)",
      "Input \u001b[1;32mIn [4]\u001b[0m, in \u001b[0;36m<cell line: 2>\u001b[1;34m()\u001b[0m\n\u001b[0;32m      1\u001b[0m \u001b[38;5;66;03m# Filter out cities only\u001b[39;00m\n\u001b[1;32m----> 2\u001b[0m specific \u001b[38;5;241m=\u001b[39m \u001b[43mintakes\u001b[49m[intakes\u001b[38;5;241m.\u001b[39mfound_location\u001b[38;5;241m.\u001b[39mstr\u001b[38;5;241m.\u001b[39mcontains(\u001b[38;5;124m'\u001b[39m\u001b[38;5;124m in \u001b[39m\u001b[38;5;124m'\u001b[39m)]\n\u001b[0;32m      3\u001b[0m \u001b[38;5;66;03m# Group the remaining together\u001b[39;00m\n\u001b[0;32m      4\u001b[0m specific \u001b[38;5;241m=\u001b[39m specific\u001b[38;5;241m.\u001b[39mgroupby([\u001b[38;5;124m'\u001b[39m\u001b[38;5;124mfound_location\u001b[39m\u001b[38;5;124m'\u001b[39m])\n",
      "\u001b[1;31mNameError\u001b[0m: name 'intakes' is not defined"
     ]
    }
   ],
   "source": [
    "\n",
    "# Filter out cities only\n",
    "specific = intakes[intakes.found_location.str.contains(' in ')]\n",
    "# Group the remaining together\n",
    "specific = specific.groupby(['found_location'])\n",
    "# Sort the data into ascending\n",
    "specific = specific.size().sort_values(ascending=False)\n",
    "# Return first 5. \n",
    "specific[:5]"
   ]
  },
  {
   "cell_type": "code",
   "execution_count": null,
   "id": "c166ca95",
   "metadata": {},
   "outputs": [],
   "source": []
  },
  {
   "cell_type": "markdown",
   "id": "2ca84d42",
   "metadata": {},
   "source": [
    "# What is the average number of pets found in a month in the year 2015? Are there months where there is a higher number of animals found?\n"
   ]
  },
  {
   "cell_type": "code",
   "execution_count": 10,
   "id": "01ea60e1",
   "metadata": {},
   "outputs": [
    {
     "ename": "NameError",
     "evalue": "name 'intakes' is not defined",
     "output_type": "error",
     "traceback": [
      "\u001b[1;31m---------------------------------------------------------------------------\u001b[0m",
      "\u001b[1;31mNameError\u001b[0m                                 Traceback (most recent call last)",
      "Input \u001b[1;32mIn [10]\u001b[0m, in \u001b[0;36m<cell line: 2>\u001b[1;34m()\u001b[0m\n\u001b[0;32m      1\u001b[0m \u001b[38;5;66;03m# Set the date range\u001b[39;00m\n\u001b[1;32m----> 2\u001b[0m fifteen \u001b[38;5;241m=\u001b[39m \u001b[43mintakes\u001b[49m[intakes[\u001b[38;5;124m'\u001b[39m\u001b[38;5;124mdatetime\u001b[39m\u001b[38;5;124m'\u001b[39m] \u001b[38;5;241m>\u001b[39m\u001b[38;5;241m=\u001b[39m pd\u001b[38;5;241m.\u001b[39mTimestamp(\u001b[38;5;241m2015\u001b[39m,\u001b[38;5;241m1\u001b[39m,\u001b[38;5;241m1\u001b[39m)]\n\u001b[0;32m      3\u001b[0m fifteen \u001b[38;5;241m=\u001b[39m fifteen[fifteen[\u001b[38;5;124m'\u001b[39m\u001b[38;5;124mdatetime\u001b[39m\u001b[38;5;124m'\u001b[39m] \u001b[38;5;241m<\u001b[39m pd\u001b[38;5;241m.\u001b[39mTimestamp(\u001b[38;5;241m2016\u001b[39m,\u001b[38;5;241m1\u001b[39m,\u001b[38;5;241m1\u001b[39m)]\n\u001b[0;32m      4\u001b[0m \u001b[38;5;66;03m# Total the intakes\u001b[39;00m\n",
      "\u001b[1;31mNameError\u001b[0m: name 'intakes' is not defined"
     ]
    }
   ],
   "source": [
    "# Set the date range\n",
    "fifteen = intakes[intakes['datetime'] >= pd.Timestamp(2015,1,1)]\n",
    "fifteen = fifteen[fifteen['datetime'] < pd.Timestamp(2016,1,1)]\n",
    "# Total the intakes\n",
    "total = fifteen['animal_id'].count()\n",
    "# Take the total and divide by 12 for average....\n",
    "average = total / 12\n",
    "# The number below will average across the montes\n",
    "print(f'The monthly intake average is {average.round(2)} animals per month')"
   ]
  },
  {
   "cell_type": "markdown",
   "id": "ca4c3200",
   "metadata": {},
   "source": [
    "\n",
    "The monthly intake average is 1559.33 animals per month"
   ]
  },
  {
   "cell_type": "markdown",
   "id": "607ece54",
   "metadata": {},
   "source": [
    "This is figured out with coming up with the total number of intakes and dividing it by 12 to get an estimate monthly intake"
   ]
  },
  {
   "cell_type": "code",
   "execution_count": 9,
   "id": "773acf7e",
   "metadata": {},
   "outputs": [
    {
     "ename": "NameError",
     "evalue": "name 'fifteen' is not defined",
     "output_type": "error",
     "traceback": [
      "\u001b[1;31m---------------------------------------------------------------------------\u001b[0m",
      "\u001b[1;31mNameError\u001b[0m                                 Traceback (most recent call last)",
      "Input \u001b[1;32mIn [9]\u001b[0m, in \u001b[0;36m<cell line: 1>\u001b[1;34m()\u001b[0m\n\u001b[1;32m----> 1\u001b[0m month_breakdown \u001b[38;5;241m=\u001b[39m \u001b[43mfifteen\u001b[49m\u001b[38;5;241m.\u001b[39mgroupby(pd\u001b[38;5;241m.\u001b[39mGrouper(key\u001b[38;5;241m=\u001b[39m\u001b[38;5;124m\"\u001b[39m\u001b[38;5;124mdatetime\u001b[39m\u001b[38;5;124m\"\u001b[39m, freq\u001b[38;5;241m=\u001b[39m\u001b[38;5;124m\"\u001b[39m\u001b[38;5;124mM\u001b[39m\u001b[38;5;124m\"\u001b[39m))\u001b[38;5;241m.\u001b[39mcount()\u001b[38;5;241m.\u001b[39mplot(kind\u001b[38;5;241m=\u001b[39m\u001b[38;5;124m\"\u001b[39m\u001b[38;5;124mbar\u001b[39m\u001b[38;5;124m\"\u001b[39m, title\u001b[38;5;241m=\u001b[39m\u001b[38;5;124m'\u001b[39m\u001b[38;5;124mMonthly Intake\u001b[39m\u001b[38;5;124m'\u001b[39m, y\u001b[38;5;241m=\u001b[39m\u001b[38;5;124m\"\u001b[39m\u001b[38;5;124manimal_id\u001b[39m\u001b[38;5;124m\"\u001b[39m)\n\u001b[0;32m      3\u001b[0m \u001b[38;5;28mprint\u001b[39m(\u001b[38;5;124mf\u001b[39m\u001b[38;5;124m'\u001b[39m\u001b[38;5;124mThe following graph below shows intakes on a month basis based on animal ID\u001b[39m\u001b[38;5;124m'\u001b[39m)\n\u001b[0;32m      5\u001b[0m \u001b[38;5;28mprint\u001b[39m(\u001b[38;5;124mf\u001b[39m\u001b[38;5;124m'\u001b[39m\u001b[38;5;124mAs the Graph shows, there are more intakes in June, May, August, and October\u001b[39m\u001b[38;5;124m'\u001b[39m)\n",
      "\u001b[1;31mNameError\u001b[0m: name 'fifteen' is not defined"
     ]
    }
   ],
   "source": [
    "month_breakdown = fifteen.groupby(pd.Grouper(key=\"datetime\", freq=\"M\")).count().plot(kind=\"bar\", title='Monthly Intake', y=\"animal_id\")\n",
    "\n",
    "print(f'The following graph below shows intakes on a month basis based on animal ID')\n",
    "\n",
    "print(f'As the Graph shows, there are more intakes in June, May, August, and October')"
   ]
  },
  {
   "cell_type": "markdown",
   "id": "08c77777",
   "metadata": {},
   "source": [
    "\n",
    "The following graph below shows intakes on a month basis based on animal ID\n",
    "As the Graph shows, there are more intakes in June, May, August, and October\n",
    "\n",
    "I used the months with the most intakes as my answer"
   ]
  },
  {
   "cell_type": "markdown",
   "id": "03d79bb1",
   "metadata": {},
   "source": [
    "# What is the ratio of incoming pets vs. adopted pets?"
   ]
  },
  {
   "cell_type": "code",
   "execution_count": null,
   "id": "66198251",
   "metadata": {},
   "outputs": [],
   "source": [
    "\n",
    "# Get the Total numbers\n",
    "num1 = intakes['animal_id'].count()\n",
    "num2 = outcomes['animal_id'].count()\n",
    "# Do some math\n",
    "ratio = num2 / num1\n",
    "# Present the results\n",
    "print(f'The total incoming pets is {num1}')\n",
    "print(f'The total number out going pets is {num2}')\n",
    "print(f'For every pet taken in, {ratio.round(4)} is adopted out.')"
   ]
  },
  {
   "cell_type": "markdown",
   "id": "c405e446",
   "metadata": {},
   "source": [
    "\n",
    "The total incoming pets is 80187\n",
    "The total number out going pets is 80681\n",
    "For every pet taken in, 1.0062 is adopted out.\n"
   ]
  },
  {
   "cell_type": "markdown",
   "id": "7e52bc80",
   "metadata": {},
   "source": [
    "I took the total outgoing and divded it by the incoming to obtain the ratio"
   ]
  },
  {
   "cell_type": "markdown",
   "id": "22b1278c",
   "metadata": {},
   "source": [
    "# What is the distribution of the types of animals in the shelter?"
   ]
  },
  {
   "cell_type": "code",
   "execution_count": null,
   "id": "000adcbc",
   "metadata": {},
   "outputs": [],
   "source": [
    "\n",
    "distribution = intakes.groupby(['animal_type']).count().plot(kind='pie', y='animal_id', ylabel='Distribution of Animal Types')\n"
   ]
  },
  {
   "cell_type": "code",
   "execution_count": null,
   "id": "69143973",
   "metadata": {},
   "outputs": [],
   "source": [
    "\n",
    "hard_numbers = intakes.groupby(['animal_type']).size()\n",
    "hard_numbers"
   ]
  },
  {
   "cell_type": "markdown",
   "id": "2d7fe82d",
   "metadata": {},
   "source": [
    "# What are the adoption rates for specific breeds?"
   ]
  },
  {
   "cell_type": "code",
   "execution_count": null,
   "id": "ed492828",
   "metadata": {},
   "outputs": [],
   "source": [
    "\n",
    "# Get the doggos\n",
    "dog_breeds = intakes[intakes['animal_type'] == 'Dog'] \n",
    "# Time to group\n",
    "dog_breeds = dog_breeds.groupby(['breed'])\n",
    "dog_breeds= dog_breeds.size().sort_values(ascending=False)\n",
    "\n",
    "# total doggos\n",
    "total_dogs = dog_breeds.count()\n",
    "\n",
    "for x in range(5):\n",
    "    y = x + 1\n",
    "    print('')\n",
    "    breeds = dog_breeds[x:y] / total\n",
    "    print(f'{breeds}')"
   ]
  },
  {
   "cell_type": "markdown",
   "id": "08680286",
   "metadata": {},
   "source": [
    "breed\n",
    "Pit Bull Mix    0.341065\n",
    "dtype: float64\n",
    "\n",
    "breed\n",
    "Chihuahua Shorthair Mix    0.259726\n",
    "dtype: float64\n",
    "\n",
    "breed\n",
    "Labrador Retriever Mix    0.258711\n",
    "dtype: float64\n",
    "\n",
    "breed\n",
    "German Shepherd Mix    0.104906\n",
    "dtype: float64\n",
    "\n",
    "breed\n",
    "Australian Cattle Dog Mix    0.059053\n",
    "dtype: float64"
   ]
  },
  {
   "cell_type": "markdown",
   "id": "4978612b",
   "metadata": {},
   "source": [
    "# What are the adoption rates for different colorings?"
   ]
  },
  {
   "cell_type": "code",
   "execution_count": null,
   "id": "3453b2bb",
   "metadata": {},
   "outputs": [],
   "source": [
    "\n",
    "# Lets begin by grouping the colors\n",
    "colors = intakes.groupby(['color'])\n",
    "color_list = colors.size().sort_values(ascending=False)\n",
    "# Remember Total variable from above\n",
    "print('Below is a list of the most popular colors and their ration of adoption compared to the total')\n",
    "# List is ugly, but it gives what is needed \n",
    "for x in range(5):\n",
    "    y = x + 1\n",
    "    print('')\n",
    "    color = color_list[x:y] / total\n",
    "    print(f'{color}')"
   ]
  },
  {
   "cell_type": "markdown",
   "id": "d8357dc2",
   "metadata": {},
   "source": [
    "\n",
    "The most popular colors and their ration of adoption compared to the total:\n",
    "\n",
    "color\n",
    "Black/White    0.445703\n",
    "dtype: float64\n",
    "\n",
    "color\n",
    "Black    0.358593\n",
    "dtype: float64\n",
    "\n",
    "color\n",
    "Brown Tabby    0.239793\n",
    "dtype: float64\n",
    "\n",
    "color\n",
    "Brown    0.193352\n",
    "dtype: float64\n",
    "\n",
    "color\n",
    "White    0.152255\n",
    "dtype: float64"
   ]
  },
  {
   "cell_type": "markdown",
   "id": "256b37fd",
   "metadata": {},
   "source": [
    "# About how many animals are spayed/neutered each month?"
   ]
  },
  {
   "cell_type": "code",
   "execution_count": null,
   "id": "48ac3efb",
   "metadata": {},
   "outputs": [],
   "source": [
    "\n",
    "# First we need the numbers we are looking for\n",
    "spayed = intakes.groupby(['sex_upon_intake'])\n",
    "spayed.size().sort_values()"
   ]
  },
  {
   "cell_type": "markdown",
   "id": "0362afb1",
   "metadata": {},
   "source": [
    "\n",
    "This is to get the total number we need for the equation."
   ]
  },
  {
   "cell_type": "code",
   "execution_count": null,
   "id": "e0072052",
   "metadata": {},
   "outputs": [],
   "source": [
    "\n",
    "# Setting the numbers as a variable.\n",
    "males = intakes.loc[intakes['sex_upon_intake'] == 'Intact Male']\n",
    "females = intakes.loc[intakes['sex_upon_intake'] == 'Intact Female']\n",
    "total = males.count() + females.count() \n",
    "# This gives 49,348\n",
    "number = total['animal_id']"
   ]
  },
  {
   "cell_type": "markdown",
   "id": "6f1c189e",
   "metadata": {},
   "source": [
    "# Added the females and male together to get the final total"
   ]
  },
  {
   "cell_type": "code",
   "execution_count": null,
   "id": "921cea5b",
   "metadata": {},
   "outputs": [],
   "source": []
  },
  {
   "cell_type": "code",
   "execution_count": null,
   "id": "e32fc1ee",
   "metadata": {},
   "outputs": [],
   "source": [
    "\n",
    "# Found this function from Stack overflow, posted 12 years ago\n",
    "def diff_month(d1, d2):\n",
    "    return (d1.year - d2.year) * 12 + d1.month - d2.month\n",
    "\n",
    "# First, how many total months\n",
    "# earliest month\n",
    "first_month = intakes['datetime'].min()\n",
    "# Latest month\n",
    "last_month = intakes['datetime'].max()\n",
    "months = diff_month(last_month, first_month)\n",
    "# 53 months is what we are working with"
   ]
  },
  {
   "cell_type": "markdown",
   "id": "26d129ae",
   "metadata": {},
   "source": [
    "# Get the month total we need"
   ]
  },
  {
   "cell_type": "code",
   "execution_count": null,
   "id": "9022da93",
   "metadata": {},
   "outputs": [],
   "source": [
    "\n",
    "# So 53 months to neuter/spay 49,348 animals. Time for math\n",
    "# Answer should be 931.094\n",
    "answer = total / months \n",
    "to_present = answer['animal_id'].round(2)\n",
    "print(f'Approximately {to_present} animals are spayed/neautered each month')"
   ]
  },
  {
   "cell_type": "code",
   "execution_count": null,
   "id": "3f5a91d8",
   "metadata": {},
   "outputs": [],
   "source": [
    "Approximately 931.09 animals are spayed/neautered each month\n",
    "took the total animals and divided it by the total months to get this answer"
   ]
  }
 ],
 "metadata": {
  "kernelspec": {
   "display_name": "Python 3 (ipykernel)",
   "language": "python",
   "name": "python3"
  },
  "language_info": {
   "codemirror_mode": {
    "name": "ipython",
    "version": 3
   },
   "file_extension": ".py",
   "mimetype": "text/x-python",
   "name": "python",
   "nbconvert_exporter": "python",
   "pygments_lexer": "ipython3",
   "version": "3.9.12"
  }
 },
 "nbformat": 4,
 "nbformat_minor": 5
}
